{
 "cells": [
  {
   "cell_type": "markdown",
   "id": "6a528e7c",
   "metadata": {},
   "source": [
    "Hypothesis testing"
   ]
  },
  {
   "cell_type": "markdown",
   "id": "954e5bf3",
   "metadata": {},
   "source": [
    "H1.Multi disciplanary aproach is working in nep 2020"
   ]
  },
  {
   "cell_type": "code",
   "execution_count": 3,
   "id": "42b52830-5a93-45c4-9a29-22128ecb21b7",
   "metadata": {},
   "outputs": [],
   "source": [
    "import pandas as pd\n",
    "from sklearn.model_selection import train_test_split\n",
    "from sklearn.linear_model import LogisticRegression\n",
    "from sklearn.tree import DecisionTreeClassifier\n",
    "from sklearn.ensemble import RandomForestClassifier\n",
    "from collections import Counter\n",
    "from sklearn.metrics import accuracy_score"
   ]
  },
  {
   "cell_type": "code",
   "execution_count": 4,
   "id": "4f3b7d98-4f59-4e8b-b30b-50c1a803cf5f",
   "metadata": {},
   "outputs": [],
   "source": [
    "data = pd.read_excel(\"NEP_data.xlsx\", sheet_name=\"train_data\")\n",
    "data = pd.read_excel(\"NEP_data.xlsx\", sheet_name=\"test_data\")"
   ]
  },
  {
   "cell_type": "code",
   "execution_count": 5,
   "id": "372adf33-5c47-498d-b42f-930658854df3",
   "metadata": {},
   "outputs": [],
   "source": [
    "# features and target data set\n",
    "features_train = data[['skill_enhance','Different_stream','Two_option']]\n",
    "target_train = data['Multi_Disciplinary']\n",
    "features_test = data[['skill_enhance','Different_stream','Two_option']]\n",
    "target_test = data['Multi_Disciplinary']"
   ]
  },
  {
   "cell_type": "code",
   "execution_count": 73,
   "id": "21690b88-13b1-425a-bcb1-ad3250f6e155",
   "metadata": {},
   "outputs": [
    {
     "name": "stdout",
     "output_type": "stream",
     "text": [
      "Accuracy: 0.73\n",
      "1: 66.67%\n",
      "0: 33.33%\n"
     ]
    }
   ],
   "source": [
    "#decision tree\n",
    "dt_classifier = DecisionTreeClassifier(random_state=42)\n",
    "dt_classifier.fit(features_train, target_train)\n",
    "target_pred = dt_classifier.predict(features_test)\n",
    "\n",
    "# Calculate accuracy and print\n",
    "accuracy = accuracy_score(target_test, target_pred)\n",
    "print(f\"Accuracy: {accuracy:.2f}\")\n",
    "\n",
    "\n",
    "Counter(target_pred)\n",
    "# Calculate counts\n",
    "result_counts = Counter(target_pred)\n",
    "\n",
    "# Compute total count\n",
    "total_count = sum(result_counts.values())\n",
    "\n",
    "# Calculate percentages\n",
    "result_percentages = {result: (count / total_count) * 100 for result, count in result_counts.items()}\n",
    "# Display percentages\n",
    "for result, percentage in result_percentages.items():\n",
    "    print(f\"{result}: {percentage:.2f}%\")"
   ]
  },
  {
   "cell_type": "code",
   "execution_count": 72,
   "id": "2414fb02-6c93-4845-82e6-0d8afd95e5a4",
   "metadata": {},
   "outputs": [
    {
     "name": "stdout",
     "output_type": "stream",
     "text": [
      "Accuracy: 0.63\n",
      "1: 100.00%\n"
     ]
    }
   ],
   "source": [
    "# Initialize the logistic regression model\n",
    "model = LogisticRegression()\n",
    "\n",
    "# Train the model\n",
    "model.fit(features_train, target_train)\n",
    "\n",
    "# Make predictions on the test set\n",
    "target_pred = model.predict(features_test)\n",
    "\n",
    "# Calculate accuracy\n",
    "accuracy = accuracy_score(target_test, target_pred)\n",
    "print(f\"Accuracy: {accuracy:.2f}\")\n",
    "\n",
    "Counter(target_pred)\n",
    "# Calculate counts\n",
    "result_counts = Counter(target_pred)\n",
    "\n",
    "# Compute total count\n",
    "total_count = sum(result_counts.values())\n",
    "\n",
    "# Calculate percentages\n",
    "result_percentages = {result: (count / total_count) * 100 for result, count in result_counts.items()}\n",
    "# Display percentages\n",
    "for result, percentage in result_percentages.items():\n",
    "    print(f\"{result}: {percentage:.2f}%\")"
   ]
  },
  {
   "cell_type": "code",
   "execution_count": 74,
   "id": "b2280bc2-39b8-49cf-b57c-53fa1695b09e",
   "metadata": {},
   "outputs": [
    {
     "name": "stdout",
     "output_type": "stream",
     "text": [
      "Accuracy: 0.73\n",
      "1: 60.00%\n",
      "2: 6.67%\n",
      "0: 33.33%\n"
     ]
    }
   ],
   "source": [
    "# Initialize the random forest classifier\n",
    "rf_classifier = RandomForestClassifier(n_estimators=100, random_state=42)\n",
    "rf_classifier.fit(features_train, target_train)\n",
    "target_pred = rf_classifier.predict(features_test)\n",
    "\n",
    "# Calculate accuracy and print\n",
    "accuracy = accuracy_score(target_test, target_pred)\n",
    "print(f\"Accuracy: {accuracy:.2f}\")\n",
    "\n",
    "\n",
    "Counter(target_pred)\n",
    "# Calculate counts\n",
    "result_counts = Counter(target_pred)\n",
    "\n",
    "# Compute total count\n",
    "total_count = sum(result_counts.values())\n",
    "\n",
    "# Calculate percentages\n",
    "result_percentages = {result: (count / total_count) * 100 for result, count in result_counts.items()}\n",
    "# Display percentages\n",
    "for result, percentage in result_percentages.items():\n",
    "    print(f\"{result}: {percentage:.2f}%\")"
   ]
  },
  {
   "cell_type": "markdown",
   "id": "e6dd9bc0-9c58-4320-a074-dc3722a7b8a2",
   "metadata": {},
   "source": [
    "H2. NEP-2020 scheme students are facing the fees problem\n",
    "\n",
    "\n",
    "\n",
    "\n",
    "\n",
    "\n",
    "\n"
   ]
  },
  {
   "cell_type": "code",
   "execution_count": 52,
   "id": "2ffd1de4-fb8c-4972-91dd-ea239c5fb0ca",
   "metadata": {},
   "outputs": [],
   "source": [
    "# features and target data set\n",
    "features_train = data[['NEP_student','Income','Area','Like_4_years']]\n",
    "target_train = data['Course_fee']\n",
    "features_test = data[['NEP_student','Income','Area','Like_4_years']]\n",
    "target_test = data['Course_fee']"
   ]
  },
  {
   "cell_type": "code",
   "execution_count": 53,
   "id": "8cb8ce80-5460-42e2-ae64-a8fcbf5a4cac",
   "metadata": {},
   "outputs": [
    {
     "name": "stdout",
     "output_type": "stream",
     "text": [
      "Accuracy: 0.70\n",
      "1: 36.67%\n",
      "0: 63.33%\n"
     ]
    }
   ],
   "source": [
    "# Initialize the random forest classifier\n",
    "rf_classifier = RandomForestClassifier(n_estimators=100, random_state=42)\n",
    "rf_classifier.fit(features_train, target_train)\n",
    "target_pred = rf_classifier.predict(features_test)\n",
    "\n",
    "# Calculate accuracy and print\n",
    "accuracy = accuracy_score(target_test, target_pred)\n",
    "print(f\"Accuracy: {accuracy:.2f}\")\n",
    "\n",
    "\n",
    "Counter(target_pred)\n",
    "# Calculate counts\n",
    "result_counts = Counter(target_pred)\n",
    "\n",
    "# Compute total count\n",
    "total_count = sum(result_counts.values())\n",
    "\n",
    "# Calculate percentages\n",
    "result_percentages = {result: (count / total_count) * 100 for result, count in result_counts.items()}\n",
    "# Display percentages\n",
    "for result, percentage in result_percentages.items():\n",
    "    print(f\"{result}: {percentage:.2f}%\")"
   ]
  },
  {
   "cell_type": "code",
   "execution_count": 76,
   "id": "664e9200-0a0b-484a-80d4-a05229a1b575",
   "metadata": {},
   "outputs": [
    {
     "name": "stdout",
     "output_type": "stream",
     "text": [
      "Accuracy: 0.67\n",
      "1: 40.00%\n",
      "0: 60.00%\n"
     ]
    }
   ],
   "source": [
    "# Initialize the logistic regression model\n",
    "model = LogisticRegression()\n",
    "\n",
    "# Train the model\n",
    "model.fit(features_train, target_train)\n",
    "\n",
    "# Make predictions on the test set\n",
    "target_pred = model.predict(features_test)\n",
    "\n",
    "# Calculate accuracy\n",
    "accuracy = accuracy_score(target_test, target_pred)\n",
    "print(f\"Accuracy: {accuracy:.2f}\")\n",
    "\n",
    "Counter(target_pred)\n",
    "# Calculate counts\n",
    "result_counts = Counter(target_pred)\n",
    "\n",
    "# Compute total count\n",
    "total_count = sum(result_counts.values())\n",
    "\n",
    "# Calculate percentages\n",
    "result_percentages = {result: (count / total_count) * 100 for result, count in result_counts.items()}\n",
    "# Display percentages\n",
    "for result, percentage in result_percentages.items():\n",
    "    print(f\"{result}: {percentage:.2f}%\")"
   ]
  },
  {
   "cell_type": "code",
   "execution_count": 77,
   "id": "5b3a8f30-58de-4190-b997-43b2e13efbb9",
   "metadata": {},
   "outputs": [
    {
     "name": "stdout",
     "output_type": "stream",
     "text": [
      "Accuracy: 0.70\n",
      "1: 30.00%\n",
      "0: 70.00%\n"
     ]
    }
   ],
   "source": [
    "#decision tree\n",
    "dt_classifier = DecisionTreeClassifier(random_state=42)\n",
    "dt_classifier.fit(features_train, target_train)\n",
    "target_pred = dt_classifier.predict(features_test)\n",
    "\n",
    "# Calculate accuracy and print\n",
    "accuracy = accuracy_score(target_test, target_pred)\n",
    "print(f\"Accuracy: {accuracy:.2f}\")\n",
    "\n",
    "\n",
    "Counter(target_pred)\n",
    "# Calculate counts\n",
    "result_counts = Counter(target_pred)\n",
    "\n",
    "# Compute total count\n",
    "total_count = sum(result_counts.values())\n",
    "\n",
    "# Calculate percentages\n",
    "result_percentages = {result: (count / total_count) * 100 for result, count in result_counts.items()}\n",
    "# Display percentages\n",
    "for result, percentage in result_percentages.items():\n",
    "    print(f\"{result}: {percentage:.2f}%\")"
   ]
  },
  {
   "cell_type": "markdown",
   "id": "5af6665d-3b6e-4e53-bb14-72a6e249d44e",
   "metadata": {},
   "source": [
    "H3. After implementing NEP there are no increase in dropouts\n",
    "\n",
    "\n",
    "\n",
    "\n",
    "\n"
   ]
  },
  {
   "cell_type": "code",
   "execution_count": 23,
   "id": "ad0894ef-6b31-4ab6-96e8-4348c3aaf996",
   "metadata": {},
   "outputs": [],
   "source": [
    "# features and target data set\n",
    "features_train = data[['Structure','Like_4_years','Exit_program']]\n",
    "target_train = data['Drop_outs']\n",
    "features_test = data[['Structure','Like_4_years','Exit_program']]\n",
    "target_test = data['Drop_outs']"
   ]
  },
  {
   "cell_type": "code",
   "execution_count": 88,
   "id": "c5896a67-b0fd-4e31-8083-01ba8bf5206b",
   "metadata": {},
   "outputs": [
    {
     "name": "stdout",
     "output_type": "stream",
     "text": [
      "Accuracy: 0.77\n",
      "0: 30.00%\n",
      "2: 66.67%\n",
      "1: 3.33%\n"
     ]
    }
   ],
   "source": [
    "#decision tree\n",
    "dt_classifier = DecisionTreeClassifier(random_state=42)\n",
    "dt_classifier.fit(features_train, target_train)\n",
    "target_pred = dt_classifier.predict(features_test)\n",
    "\n",
    "# Calculate accuracy and print\n",
    "accuracy = accuracy_score(target_test, target_pred)\n",
    "print(f\"Accuracy: {accuracy:.2f}\")\n",
    "\n",
    "\n",
    "Counter(target_pred)\n",
    "# Calculate counts\n",
    "result_counts = Counter(target_pred)\n",
    "\n",
    "# Compute total count\n",
    "total_count = sum(result_counts.values())\n",
    "\n",
    "# Calculate percentages\n",
    "result_percentages = {result: (count / total_count) * 100 for result, count in result_counts.items()}\n",
    "# Display percentages\n",
    "for result, percentage in result_percentages.items():\n",
    "    print(f\"{result}: {percentage:.2f}%\")"
   ]
  },
  {
   "cell_type": "code",
   "execution_count": 25,
   "id": "e49bf74b-fd2f-48c4-8a6a-0c6914925707",
   "metadata": {},
   "outputs": [
    {
     "name": "stdout",
     "output_type": "stream",
     "text": [
      "Accuracy: 0.70\n",
      "2: 76.67%\n",
      "0: 13.33%\n",
      "1: 10.00%\n"
     ]
    }
   ],
   "source": [
    "# Initialize the logistic regression model\n",
    "model = LogisticRegression()\n",
    "\n",
    "# Train the model\n",
    "model.fit(features_train, target_train)\n",
    "\n",
    "# Make predictions on the test set\n",
    "target_pred = model.predict(features_test)\n",
    "\n",
    "# Calculate accuracy\n",
    "accuracy = accuracy_score(target_test, target_pred)\n",
    "print(f\"Accuracy: {accuracy:.2f}\")\n",
    "\n",
    "Counter(target_pred)\n",
    "# Calculate counts\n",
    "result_counts = Counter(target_pred)\n",
    "\n",
    "# Compute total count\n",
    "total_count = sum(result_counts.values())\n",
    "\n",
    "# Calculate percentages\n",
    "result_percentages = {result: (count / total_count) * 100 for result, count in result_counts.items()}\n",
    "# Display percentages\n",
    "for result, percentage in result_percentages.items():\n",
    "    print(f\"{result}: {percentage:.2f}%\")"
   ]
  },
  {
   "cell_type": "code",
   "execution_count": 24,
   "id": "5a4b6439-039e-49e1-90ca-7d50a6f2d57b",
   "metadata": {},
   "outputs": [
    {
     "name": "stdout",
     "output_type": "stream",
     "text": [
      "Accuracy: 0.77\n",
      "0: 16.67%\n",
      "1: 16.67%\n",
      "2: 66.67%\n"
     ]
    }
   ],
   "source": [
    "# Initialize the random forest classifier\n",
    "rf_classifier = RandomForestClassifier(n_estimators=100, random_state=42)\n",
    "rf_classifier.fit(features_train, target_train)\n",
    "target_pred = rf_classifier.predict(features_test)\n",
    "\n",
    "# Calculate accuracy and print\n",
    "accuracy = accuracy_score(target_test, target_pred)\n",
    "print(f\"Accuracy: {accuracy:.2f}\")\n",
    "\n",
    "\n",
    "Counter(target_pred)\n",
    "# Calculate counts\n",
    "result_counts = Counter(target_pred)\n",
    "\n",
    "# Compute total count\n",
    "total_count = sum(result_counts.values())\n",
    "\n",
    "# Calculate percentages\n",
    "result_percentages = {result: (count / total_count) * 100 for result, count in result_counts.items()}\n",
    "# Display percentages\n",
    "for result, percentage in result_percentages.items():\n",
    "    print(f\"{result}: {percentage:.2f}%\")"
   ]
  },
  {
   "cell_type": "markdown",
   "id": "94acc7db-8822-4992-8985-8c4c2cdfcb35",
   "metadata": {},
   "source": [
    "H4. More than 90% of people know National Education Policy 2020 \n",
    "\n",
    "\n",
    "\n",
    "\n",
    "\n"
   ]
  },
  {
   "cell_type": "code",
   "execution_count": 3,
   "id": "c981f73a-8145-4711-ab37-03f35d92455b",
   "metadata": {},
   "outputs": [],
   "source": [
    "import pandas as pd\n",
    "from sklearn.model_selection import train_test_split\n",
    "from sklearn.linear_model import LogisticRegression\n",
    "from sklearn.tree import DecisionTreeClassifier\n",
    "from sklearn.ensemble import RandomForestClassifier\n",
    "from collections import Counter\n",
    "from sklearn.metrics import accuracy_score"
   ]
  },
  {
   "cell_type": "code",
   "execution_count": 45,
   "id": "0f726f15-c3da-45b2-bb60-16ca7f30208c",
   "metadata": {},
   "outputs": [],
   "source": [
    "# features and target data set\n",
    "features_train = data[['Area','Age','NEP_student','Gender2']]\n",
    "target_train = data['Awerness']\n",
    "features_test = data[['Area','Age','NEP_student','Gender2']]\n",
    "target_test = data['Awerness']"
   ]
  },
  {
   "cell_type": "code",
   "execution_count": 21,
   "id": "3bbbbee9-56aa-4a30-803a-da031a48e7e4",
   "metadata": {},
   "outputs": [
    {
     "name": "stdout",
     "output_type": "stream",
     "text": [
      "Accuracy: 0.87\n",
      "1: 16.67%\n",
      "0: 83.33%\n"
     ]
    }
   ],
   "source": [
    "# Initialize the random forest classifier\n",
    "rf_classifier = RandomForestClassifier(n_estimators=100, random_state=42)\n",
    "rf_classifier.fit(features_train, target_train)\n",
    "target_pred = rf_classifier.predict(features_test)\n",
    "\n",
    "# Calculate accuracy and print\n",
    "accuracy = accuracy_score(target_test, target_pred)\n",
    "print(f\"Accuracy: {accuracy:.2f}\")\n",
    "\n",
    "\n",
    "Counter(target_pred)\n",
    "# Calculate counts\n",
    "result_counts = Counter(target_pred)\n",
    "\n",
    "# Compute total count\n",
    "total_count = sum(result_counts.values())\n",
    "\n",
    "# Calculate percentages\n",
    "result_percentages = {result: (count / total_count) * 100 for result, count in result_counts.items()}\n",
    "# Display percentages\n",
    "for result, percentage in result_percentages.items():\n",
    "    print(f\"{result}: {percentage:.2f}%\")"
   ]
  },
  {
   "cell_type": "code",
   "execution_count": 43,
   "id": "d4abb0b4-13a8-4839-97b1-b57abae3542c",
   "metadata": {},
   "outputs": [
    {
     "name": "stdout",
     "output_type": "stream",
     "text": [
      "Accuracy: 0.67\n",
      "2: 86.67%\n",
      "0: 13.33%\n"
     ]
    }
   ],
   "source": [
    "# Initialize the logistic regression model\n",
    "model = LogisticRegression()\n",
    "\n",
    "# Train the model\n",
    "model.fit(features_train, target_train)\n",
    "\n",
    "# Make predictions on the test set\n",
    "target_pred = model.predict(features_test)\n",
    "\n",
    "# Calculate accuracy\n",
    "accuracy = accuracy_score(target_test, target_pred)\n",
    "print(f\"Accuracy: {accuracy:.2f}\")\n",
    "\n",
    "Counter(target_pred)\n",
    "# Calculate counts\n",
    "result_counts = Counter(target_pred)\n",
    "\n",
    "# Compute total count\n",
    "total_count = sum(result_counts.values())\n",
    "\n",
    "# Calculate percentages\n",
    "result_percentages = {result: (count / total_count) * 100 for result, count in result_counts.items()}\n",
    "# Display percentages\n",
    "for result, percentage in result_percentages.items():\n",
    "    print(f\"{result}: {percentage:.2f}%\")"
   ]
  },
  {
   "cell_type": "code",
   "execution_count": 22,
   "id": "71cb53cf-9542-4cd2-9a05-70df7c516f26",
   "metadata": {},
   "outputs": [
    {
     "name": "stdout",
     "output_type": "stream",
     "text": [
      "Accuracy: 0.87\n",
      "1: 16.67%\n",
      "0: 83.33%\n"
     ]
    }
   ],
   "source": [
    "#decision tree\n",
    "dt_classifier = DecisionTreeClassifier(random_state=42)\n",
    "dt_classifier.fit(features_train, target_train)\n",
    "target_pred = dt_classifier.predict(features_test)\n",
    "\n",
    "# Calculate accuracy and print\n",
    "accuracy = accuracy_score(target_test, target_pred)\n",
    "print(f\"Accuracy: {accuracy:.2f}\")\n",
    "\n",
    "\n",
    "Counter(target_pred)\n",
    "# Calculate counts\n",
    "result_counts = Counter(target_pred)\n",
    "\n",
    "# Compute total count\n",
    "total_count = sum(result_counts.values())\n",
    "\n",
    "# Calculate percentages\n",
    "result_percentages = {result: (count / total_count) * 100 for result, count in result_counts.items()}\n",
    "# Display percentages\n",
    "for result, percentage in result_percentages.items():\n",
    "    print(f\"{result}: {percentage:.2f}%\")"
   ]
  },
  {
   "cell_type": "markdown",
   "id": "11c597c6-baa3-4362-b273-f6c1de3640ab",
   "metadata": {},
   "source": [
    "H5. Degree students will not like 2020 because of 4 years course\n",
    "\n",
    "\n",
    "\n",
    "\n",
    "\n"
   ]
  },
  {
   "cell_type": "code",
   "execution_count": 26,
   "id": "b944f6ed-98c2-4c18-8e94-0a09775248dd",
   "metadata": {},
   "outputs": [],
   "source": [
    "# features and target data set\n",
    "features_train = data[['Drop_outs','Income','Course_fee','Old_schema','Two_option']]\n",
    "target_train = data['Like_4_years']\n",
    "features_test = data[['Drop_outs','Income','Course_fee','Old_schema','Two_option']]\n",
    "target_test = data['Like_4_years']"
   ]
  },
  {
   "cell_type": "code",
   "execution_count": 27,
   "id": "e803fe23-2568-4e39-952e-5448c4b19045",
   "metadata": {},
   "outputs": [
    {
     "name": "stdout",
     "output_type": "stream",
     "text": [
      "Accuracy: 0.87\n",
      "1: 16.67%\n",
      "0: 83.33%\n"
     ]
    }
   ],
   "source": [
    "#decision tree\n",
    "dt_classifier = DecisionTreeClassifier(random_state=42)\n",
    "dt_classifier.fit(features_train, target_train)\n",
    "target_pred = dt_classifier.predict(features_test)\n",
    "\n",
    "# Calculate accuracy and print\n",
    "accuracy = accuracy_score(target_test, target_pred)\n",
    "print(f\"Accuracy: {accuracy:.2f}\")\n",
    "\n",
    "\n",
    "Counter(target_pred)\n",
    "# Calculate counts\n",
    "result_counts = Counter(target_pred)\n",
    "\n",
    "# Compute total count\n",
    "total_count = sum(result_counts.values())\n",
    "\n",
    "# Calculate percentages\n",
    "result_percentages = {result: (count / total_count) * 100 for result, count in result_counts.items()}\n",
    "# Display percentages\n",
    "for result, percentage in result_percentages.items():\n",
    "    print(f\"{result}: {percentage:.2f}%\")"
   ]
  },
  {
   "cell_type": "code",
   "execution_count": 28,
   "id": "75458eed-cec1-4d11-b5b6-4a4287878c04",
   "metadata": {},
   "outputs": [
    {
     "name": "stdout",
     "output_type": "stream",
     "text": [
      "Accuracy: 0.87\n",
      "1: 16.67%\n",
      "0: 83.33%\n"
     ]
    }
   ],
   "source": [
    "# Initialize the random forest classifier\n",
    "rf_classifier = RandomForestClassifier(n_estimators=100, random_state=42)\n",
    "rf_classifier.fit(features_train, target_train)\n",
    "target_pred = rf_classifier.predict(features_test)\n",
    "\n",
    "# Calculate accuracy and print\n",
    "accuracy = accuracy_score(target_test, target_pred)\n",
    "print(f\"Accuracy: {accuracy:.2f}\")\n",
    "\n",
    "\n",
    "Counter(target_pred)\n",
    "# Calculate counts\n",
    "result_counts = Counter(target_pred)\n",
    "\n",
    "# Compute total count\n",
    "total_count = sum(result_counts.values())\n",
    "\n",
    "# Calculate percentages\n",
    "result_percentages = {result: (count / total_count) * 100 for result, count in result_counts.items()}\n",
    "# Display percentages\n",
    "for result, percentage in result_percentages.items():\n",
    "    print(f\"{result}: {percentage:.2f}%\")"
   ]
  },
  {
   "cell_type": "code",
   "execution_count": 29,
   "id": "5f80722f-a996-44f4-b48c-d37ac2bbad0b",
   "metadata": {},
   "outputs": [
    {
     "name": "stdout",
     "output_type": "stream",
     "text": [
      "---->Accuracy: 0.77\n",
      "1: 13.33%\n",
      "0: 86.67%\n"
     ]
    }
   ],
   "source": [
    "# Initialize the logistic regression model\n",
    "model = LogisticRegression()\n",
    "\n",
    "# Train the model\n",
    "model.fit(features_train, target_train)\n",
    "\n",
    "# Make predictions on the test set\n",
    "target_pred = model.predict(features_test)\n",
    "\n",
    "# Calculate accuracy\n",
    "accuracy = accuracy_score(target_test, target_pred)\n",
    "print(f\"---->Accuracy: {accuracy:.2f}\")\n",
    "\n",
    "Counter(target_pred)\n",
    "# Calculate counts\n",
    "result_counts = Counter(target_pred)\n",
    "\n",
    "# Compute total count\n",
    "total_count = sum(result_counts.values())\n",
    "\n",
    "# Calculate percentages\n",
    "result_percentages = {result: (count / total_count) * 100 for result, count in result_counts.items()}\n",
    "# Display percentages\n",
    "for result, percentage in result_percentages.items():\n",
    "    print(f\"{result}: {percentage:.2f}%\")"
   ]
  },
  {
   "cell_type": "code",
   "execution_count": 29,
   "id": "4db8e800-69fc-495f-8563-f67e68119d59",
   "metadata": {},
   "outputs": [
    {
     "data": {
      "text/html": [
       "<div>\n",
       "<style scoped>\n",
       "    .dataframe tbody tr th:only-of-type {\n",
       "        vertical-align: middle;\n",
       "    }\n",
       "\n",
       "    .dataframe tbody tr th {\n",
       "        vertical-align: top;\n",
       "    }\n",
       "\n",
       "    .dataframe thead th {\n",
       "        text-align: right;\n",
       "    }\n",
       "</style>\n",
       "<table border=\"1\" class=\"dataframe\">\n",
       "  <thead>\n",
       "    <tr style=\"text-align: right;\">\n",
       "      <th></th>\n",
       "      <th>Name</th>\n",
       "      <th>Age Group</th>\n",
       "      <th>Age</th>\n",
       "      <th>Gender</th>\n",
       "      <th>Gender2</th>\n",
       "      <th>Relegion</th>\n",
       "      <th>Relegion1</th>\n",
       "      <th>Caste</th>\n",
       "      <th>Caste1</th>\n",
       "      <th>Country</th>\n",
       "      <th>...</th>\n",
       "      <th>Three_option</th>\n",
       "      <th>Do you feel that NEP has Increased the fee of the Course</th>\n",
       "      <th>Course_fee</th>\n",
       "      <th>NEP is helping in gaining the following skills</th>\n",
       "      <th>Do you like NEP</th>\n",
       "      <th>Like_NEP</th>\n",
       "      <th>Do you believe NEP will be a success</th>\n",
       "      <th>NEP_success</th>\n",
       "      <th>Do  you want revert back to old Schema(Non-NEP Schema)</th>\n",
       "      <th>Old_schema</th>\n",
       "    </tr>\n",
       "  </thead>\n",
       "  <tbody>\n",
       "    <tr>\n",
       "      <th>0</th>\n",
       "      <td>Eshwari .M</td>\n",
       "      <td>16 to 20</td>\n",
       "      <td>1</td>\n",
       "      <td>Female</td>\n",
       "      <td>2</td>\n",
       "      <td>Hindu</td>\n",
       "      <td>1</td>\n",
       "      <td>General</td>\n",
       "      <td>1</td>\n",
       "      <td>India</td>\n",
       "      <td>...</td>\n",
       "      <td>1</td>\n",
       "      <td>Yes</td>\n",
       "      <td>1</td>\n",
       "      <td>Creative skills</td>\n",
       "      <td>No</td>\n",
       "      <td>0</td>\n",
       "      <td>Disagree</td>\n",
       "      <td>1</td>\n",
       "      <td>No</td>\n",
       "      <td>0</td>\n",
       "    </tr>\n",
       "    <tr>\n",
       "      <th>1</th>\n",
       "      <td>Marathamma</td>\n",
       "      <td>16 to 20</td>\n",
       "      <td>1</td>\n",
       "      <td>Female</td>\n",
       "      <td>2</td>\n",
       "      <td>Christian</td>\n",
       "      <td>3</td>\n",
       "      <td>General</td>\n",
       "      <td>1</td>\n",
       "      <td>India</td>\n",
       "      <td>...</td>\n",
       "      <td>0</td>\n",
       "      <td>Yes</td>\n",
       "      <td>1</td>\n",
       "      <td>Creative skills</td>\n",
       "      <td>Yes</td>\n",
       "      <td>1</td>\n",
       "      <td>Agree</td>\n",
       "      <td>3</td>\n",
       "      <td>Yes</td>\n",
       "      <td>1</td>\n",
       "    </tr>\n",
       "    <tr>\n",
       "      <th>2</th>\n",
       "      <td>Deepashree A</td>\n",
       "      <td>21 to 25</td>\n",
       "      <td>2</td>\n",
       "      <td>Female</td>\n",
       "      <td>2</td>\n",
       "      <td>Hindu</td>\n",
       "      <td>1</td>\n",
       "      <td>3B</td>\n",
       "      <td>4</td>\n",
       "      <td>India</td>\n",
       "      <td>...</td>\n",
       "      <td>1</td>\n",
       "      <td>Yes</td>\n",
       "      <td>1</td>\n",
       "      <td>NaN</td>\n",
       "      <td>Yes</td>\n",
       "      <td>1</td>\n",
       "      <td>Strongly agree</td>\n",
       "      <td>4</td>\n",
       "      <td>Yes</td>\n",
       "      <td>1</td>\n",
       "    </tr>\n",
       "    <tr>\n",
       "      <th>3</th>\n",
       "      <td>Suchithra R</td>\n",
       "      <td>21 to 25</td>\n",
       "      <td>2</td>\n",
       "      <td>Female</td>\n",
       "      <td>2</td>\n",
       "      <td>Hindu</td>\n",
       "      <td>1</td>\n",
       "      <td>3A</td>\n",
       "      <td>2</td>\n",
       "      <td>India</td>\n",
       "      <td>...</td>\n",
       "      <td>0</td>\n",
       "      <td>Yes</td>\n",
       "      <td>1</td>\n",
       "      <td>Creative skills</td>\n",
       "      <td>No</td>\n",
       "      <td>0</td>\n",
       "      <td>Strongly Disagree</td>\n",
       "      <td>0</td>\n",
       "      <td>Yes</td>\n",
       "      <td>1</td>\n",
       "    </tr>\n",
       "    <tr>\n",
       "      <th>4</th>\n",
       "      <td>Priya S</td>\n",
       "      <td>21 to 25</td>\n",
       "      <td>2</td>\n",
       "      <td>Female</td>\n",
       "      <td>2</td>\n",
       "      <td>Hindu</td>\n",
       "      <td>1</td>\n",
       "      <td>2A</td>\n",
       "      <td>3</td>\n",
       "      <td>India</td>\n",
       "      <td>...</td>\n",
       "      <td>0</td>\n",
       "      <td>Yes</td>\n",
       "      <td>1</td>\n",
       "      <td>Job skills</td>\n",
       "      <td>Yes</td>\n",
       "      <td>1</td>\n",
       "      <td>Agree</td>\n",
       "      <td>3</td>\n",
       "      <td>Don't Know</td>\n",
       "      <td>2</td>\n",
       "    </tr>\n",
       "  </tbody>\n",
       "</table>\n",
       "<p>5 rows × 55 columns</p>\n",
       "</div>"
      ],
      "text/plain": [
       "           Name Age Group  Age  Gender  Gender2   Relegion  Relegion1  \\\n",
       "0   Eshwari .M   16 to 20    1  Female        2      Hindu          1   \n",
       "1    Marathamma  16 to 20    1  Female        2  Christian          3   \n",
       "2  Deepashree A  21 to 25    2  Female        2      Hindu          1   \n",
       "3   Suchithra R  21 to 25    2  Female        2      Hindu          1   \n",
       "4       Priya S  21 to 25    2  Female        2      Hindu          1   \n",
       "\n",
       "     Caste  Caste1 Country   ... Three_option  \\\n",
       "0  General       1    India  ...            1   \n",
       "1  General       1    India  ...            0   \n",
       "2       3B       4    India  ...            1   \n",
       "3       3A       2    India  ...            0   \n",
       "4       2A       3    India  ...            0   \n",
       "\n",
       "  Do you feel that NEP has Increased the fee of the Course  Course_fee  \\\n",
       "0                                                Yes                 1   \n",
       "1                                                Yes                 1   \n",
       "2                                                Yes                 1   \n",
       "3                                                Yes                 1   \n",
       "4                                                Yes                 1   \n",
       "\n",
       "  NEP is helping in gaining the following skills  Do you like NEP Like_NEP  \\\n",
       "0                                Creative skills               No        0   \n",
       "1                                Creative skills              Yes        1   \n",
       "2                                            NaN              Yes        1   \n",
       "3                                Creative skills               No        0   \n",
       "4                                     Job skills              Yes        1   \n",
       "\n",
       "   Do you believe NEP will be a success NEP_success  \\\n",
       "0                              Disagree           1   \n",
       "1                                 Agree           3   \n",
       "2                        Strongly agree           4   \n",
       "3                     Strongly Disagree           0   \n",
       "4                                 Agree           3   \n",
       "\n",
       "  Do  you want revert back to old Schema(Non-NEP Schema) Old_schema  \n",
       "0                                                 No              0  \n",
       "1                                                Yes              1  \n",
       "2                                                Yes              1  \n",
       "3                                                Yes              1  \n",
       "4                                         Don't Know              2  \n",
       "\n",
       "[5 rows x 55 columns]"
      ]
     },
     "execution_count": 29,
     "metadata": {},
     "output_type": "execute_result"
    }
   ],
   "source": [
    "data.head()"
   ]
  },
  {
   "cell_type": "markdown",
   "id": "0167fe74-89dc-496e-8ac8-8d0feb6e8915",
   "metadata": {},
   "source": [
    "H6. NEP-2020 is getting successful\n",
    "\n",
    "\n",
    "\n",
    "\n",
    "\n",
    "\n"
   ]
  },
  {
   "cell_type": "code",
   "execution_count": 14,
   "id": "e5ff065b-f437-4939-8a78-bfeaaa5cb9b7",
   "metadata": {},
   "outputs": [],
   "source": [
    "# features and target data set\n",
    "features_train = data[['Age','Gender2','Relegion1','Caste1','Area','Income','Awerness','NEP_student','Structure','Like_4_years','Exit_program','Drop_outs','Teachers_trained','5+3+3+4_structure','Different_stream','Multi_Disciplinary','skill_enhance','Two_option','Three_option','Course_fee','NEP_success','Old_schema'\n",
    "]]\n",
    "target_train = data['Like_NEP']\n",
    "features_test = data[['Age','Gender2','Relegion1','Caste1','Area','Income','Awerness','NEP_student','Structure','Like_4_years','Exit_program','Drop_outs','Teachers_trained','5+3+3+4_structure','Different_stream','Multi_Disciplinary','skill_enhance','Two_option','Three_option','Course_fee','NEP_success','Old_schema'\n",
    "]]\n",
    "target_test = data['Like_NEP']"
   ]
  },
  {
   "cell_type": "code",
   "execution_count": 15,
   "id": "af8a041b-e0b4-4e1e-b820-7cf2957eebd1",
   "metadata": {},
   "outputs": [
    {
     "name": "stdout",
     "output_type": "stream",
     "text": [
      "Accuracy: 1.00\n",
      "0: 33.33%\n",
      "1: 66.67%\n"
     ]
    }
   ],
   "source": [
    "# Initialize the random forest classifier\n",
    "rf_classifier = RandomForestClassifier(n_estimators=100, random_state=42)\n",
    "rf_classifier.fit(features_train, target_train)\n",
    "target_pred = rf_classifier.predict(features_test)\n",
    "\n",
    "# Calculate accuracy and print\n",
    "accuracy = accuracy_score(target_test, target_pred)\n",
    "print(f\"Accuracy: {accuracy:.2f}\")\n",
    "\n",
    "\n",
    "Counter(target_pred)\n",
    "# Calculate counts\n",
    "result_counts = Counter(target_pred)\n",
    "\n",
    "# Compute total count\n",
    "total_count = sum(result_counts.values())\n",
    "\n",
    "# Calculate percentages\n",
    "result_percentages = {result: (count / total_count) * 100 for result, count in result_counts.items()}\n",
    "# Display percentages\n",
    "for result, percentage in result_percentages.items():\n",
    "    print(f\"{result}: {percentage:.2f}%\")"
   ]
  },
  {
   "cell_type": "code",
   "execution_count": 16,
   "id": "c263ab77-f47c-4a9a-bf78-44b400a01fa2",
   "metadata": {},
   "outputs": [
    {
     "name": "stdout",
     "output_type": "stream",
     "text": [
      "Accuracy: 1.00\n",
      "0: 33.33%\n",
      "1: 66.67%\n"
     ]
    }
   ],
   "source": [
    "#decision tree\n",
    "dt_classifier = DecisionTreeClassifier(random_state=42)\n",
    "dt_classifier.fit(features_train, target_train)\n",
    "target_pred = dt_classifier.predict(features_test)\n",
    "\n",
    "# Calculate accuracy and print\n",
    "accuracy = accuracy_score(target_test, target_pred)\n",
    "print(f\"Accuracy: {accuracy:.2f}\")\n",
    "\n",
    "\n",
    "Counter(target_pred)\n",
    "# Calculate counts\n",
    "result_counts = Counter(target_pred)\n",
    "\n",
    "# Compute total count\n",
    "total_count = sum(result_counts.values())\n",
    "\n",
    "# Calculate percentages\n",
    "result_percentages = {result: (count / total_count) * 100 for result, count in result_counts.items()}\n",
    "# Display percentages\n",
    "for result, percentage in result_percentages.items():\n",
    "    print(f\"{result}: {percentage:.2f}%\")"
   ]
  },
  {
   "cell_type": "code",
   "execution_count": 17,
   "id": "8604350a-a94f-4951-be5c-bc04c29ca7a8",
   "metadata": {},
   "outputs": [
    {
     "name": "stdout",
     "output_type": "stream",
     "text": [
      "---->Accuracy: 0.97\n",
      "0: 30.00%\n",
      "1: 70.00%\n"
     ]
    }
   ],
   "source": [
    "# Initialize the logistic regression model\n",
    "model = LogisticRegression()\n",
    "\n",
    "# Train the model\n",
    "model.fit(features_train, target_train)\n",
    "\n",
    "# Make predictions on the test set\n",
    "target_pred = model.predict(features_test)\n",
    "\n",
    "# Calculate accuracy\n",
    "accuracy = accuracy_score(target_test, target_pred)\n",
    "print(f\"---->Accuracy: {accuracy:.2f}\")\n",
    "\n",
    "Counter(target_pred)\n",
    "# Calculate counts\n",
    "result_counts = Counter(target_pred)\n",
    "\n",
    "# Compute total count\n",
    "total_count = sum(result_counts.values())\n",
    "\n",
    "# Calculate percentages\n",
    "result_percentages = {result: (count / total_count) * 100 for result, count in result_counts.items()}\n",
    "# Display percentages\n",
    "for result, percentage in result_percentages.items():\n",
    "    print(f\"{result}: {percentage:.2f}%\")"
   ]
  },
  {
   "cell_type": "markdown",
   "id": "4f791f3e-bbc6-4846-bdfc-da684d5078f0",
   "metadata": {},
   "source": [
    "Final Conclusion:\n",
    "\n"
   ]
  },
  {
   "cell_type": "code",
   "execution_count": 18,
   "id": "94befbb3-837d-4b36-a143-419fd8c9b781",
   "metadata": {},
   "outputs": [],
   "source": [
    "# features and target data set\n",
    "features_train = data[['Age','Gender2','Relegion1','Caste1','Area','Income','Awerness','NEP_student','Structure','Like_4_years','Exit_program','Drop_outs','Teachers_trained','5+3+3+4_structure','Different_stream','Multi_Disciplinary','skill_enhance','Two_option','Three_option','Course_fee','Like_NEP','Old_schema'\n",
    "]]\n",
    "target_train = data['NEP_success']\n",
    "features_test = data[['Age','Gender2','Relegion1','Caste1','Area','Income','Awerness','NEP_student','Structure','Like_4_years','Exit_program','Drop_outs','Teachers_trained','5+3+3+4_structure','Different_stream','Multi_Disciplinary','skill_enhance','Two_option','Three_option','Course_fee','Like_NEP','Old_schema'\n",
    "]]\n",
    "target_test = data['NEP_success']"
   ]
  },
  {
   "cell_type": "code",
   "execution_count": 11,
   "id": "3f823154-1a3a-4943-b888-d8f8d39cc1b4",
   "metadata": {},
   "outputs": [
    {
     "name": "stdout",
     "output_type": "stream",
     "text": [
      "Accuracy: 1.00\n",
      "1: 6.67%\n",
      "3: 23.33%\n",
      "4: 13.33%\n",
      "0: 6.67%\n",
      "2: 50.00%\n"
     ]
    }
   ],
   "source": [
    "#decision tree\n",
    "dt_classifier = DecisionTreeClassifier(random_state=42)\n",
    "dt_classifier.fit(features_train, target_train)\n",
    "target_pred = dt_classifier.predict(features_test)\n",
    "\n",
    "# Calculate accuracy and print\n",
    "accuracy = accuracy_score(target_test, target_pred)\n",
    "print(f\"Accuracy: {accuracy:.2f}\")\n",
    "\n",
    "\n",
    "Counter(target_pred)\n",
    "# Calculate counts\n",
    "result_counts = Counter(target_pred)\n",
    "\n",
    "# Compute total count\n",
    "total_count = sum(result_counts.values())\n",
    "\n",
    "# Calculate percentages\n",
    "result_percentages = {result: (count / total_count) * 100 for result, count in result_counts.items()}\n",
    "# Display percentages\n",
    "for result, percentage in result_percentages.items():\n",
    "    print(f\"{result}: {percentage:.2f}%\")"
   ]
  },
  {
   "cell_type": "code",
   "execution_count": 19,
   "id": "be0583a4-91cd-4f21-9cc7-18b2bb73f6ed",
   "metadata": {},
   "outputs": [
    {
     "name": "stdout",
     "output_type": "stream",
     "text": [
      "---->Accuracy: 1.00\n",
      "1: 6.67%\n",
      "3: 23.33%\n",
      "4: 13.33%\n",
      "0: 6.67%\n",
      "2: 50.00%\n"
     ]
    },
    {
     "name": "stderr",
     "output_type": "stream",
     "text": [
      "C:\\Users\\Lenovo\\anaconda3\\Lib\\site-packages\\sklearn\\linear_model\\_logistic.py:458: ConvergenceWarning: lbfgs failed to converge (status=1):\n",
      "STOP: TOTAL NO. of ITERATIONS REACHED LIMIT.\n",
      "\n",
      "Increase the number of iterations (max_iter) or scale the data as shown in:\n",
      "    https://scikit-learn.org/stable/modules/preprocessing.html\n",
      "Please also refer to the documentation for alternative solver options:\n",
      "    https://scikit-learn.org/stable/modules/linear_model.html#logistic-regression\n",
      "  n_iter_i = _check_optimize_result(\n"
     ]
    }
   ],
   "source": [
    "# Initialize the logistic regression model\n",
    "model = LogisticRegression()\n",
    "\n",
    "# Train the model\n",
    "model.fit(features_train, target_train)\n",
    "\n",
    "# Make predictions on the test set\n",
    "target_pred = model.predict(features_test)\n",
    "\n",
    "# Calculate accuracy\n",
    "accuracy = accuracy_score(target_test, target_pred)\n",
    "print(f\"---->Accuracy: {accuracy:.2f}\")\n",
    "\n",
    "Counter(target_pred)\n",
    "# Calculate counts\n",
    "result_counts = Counter(target_pred)\n",
    "\n",
    "# Compute total count\n",
    "total_count = sum(result_counts.values())\n",
    "\n",
    "# Calculate percentages\n",
    "result_percentages = {result: (count / total_count) * 100 for result, count in result_counts.items()}\n",
    "# Display percentages\n",
    "for result, percentage in result_percentages.items():\n",
    "    print(f\"{result}: {percentage:.2f}%\")"
   ]
  },
  {
   "cell_type": "code",
   "execution_count": 20,
   "id": "f81382e3-1e37-4a1d-a029-707b903f77b6",
   "metadata": {},
   "outputs": [
    {
     "name": "stdout",
     "output_type": "stream",
     "text": [
      "Accuracy: 1.00\n",
      "1: 6.67%\n",
      "3: 23.33%\n",
      "4: 13.33%\n",
      "0: 6.67%\n",
      "2: 50.00%\n"
     ]
    }
   ],
   "source": [
    "# Initialize the random forest classifier\n",
    "rf_classifier = RandomForestClassifier(n_estimators=100, random_state=42)\n",
    "rf_classifier.fit(features_train, target_train)\n",
    "target_pred = rf_classifier.predict(features_test)\n",
    "\n",
    "# Calculate accuracy and print\n",
    "accuracy = accuracy_score(target_test, target_pred)\n",
    "print(f\"Accuracy: {accuracy:.2f}\")\n",
    "\n",
    "\n",
    "Counter(target_pred)\n",
    "# Calculate counts\n",
    "result_counts = Counter(target_pred)\n",
    "\n",
    "# Compute total count\n",
    "total_count = sum(result_counts.values())\n",
    "\n",
    "# Calculate percentages\n",
    "result_percentages = {result: (count / total_count) * 100 for result, count in result_counts.items()}\n",
    "# Display percentages\n",
    "for result, percentage in result_percentages.items():\n",
    "    print(f\"{result}: {percentage:.2f}%\")"
   ]
  },
  {
   "cell_type": "code",
   "execution_count": null,
   "id": "43e77784-bbfe-4cb4-8088-b9405e1dedc4",
   "metadata": {},
   "outputs": [],
   "source": []
  }
 ],
 "metadata": {
  "kernelspec": {
   "display_name": "Python 3 (ipykernel)",
   "language": "python",
   "name": "python3"
  },
  "language_info": {
   "codemirror_mode": {
    "name": "ipython",
    "version": 3
   },
   "file_extension": ".py",
   "mimetype": "text/x-python",
   "name": "python",
   "nbconvert_exporter": "python",
   "pygments_lexer": "ipython3",
   "version": "3.11.7"
  }
 },
 "nbformat": 4,
 "nbformat_minor": 5
}
